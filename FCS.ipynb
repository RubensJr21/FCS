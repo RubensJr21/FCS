{
  "nbformat": 4,
  "nbformat_minor": 0,
  "metadata": {
    "colab": {
      "name": "FCS.ipynb",
      "provenance": [],
      "collapsed_sections": [],
      "authorship_tag": "ABX9TyPiAVg6jm5Pg7XdHxfeuWjP",
      "include_colab_link": true
    },
    "kernelspec": {
      "name": "python3",
      "display_name": "Python 3"
    }
  },
  "cells": [
    {
      "cell_type": "markdown",
      "metadata": {
        "id": "view-in-github",
        "colab_type": "text"
      },
      "source": [
        "<a href=\"https://colab.research.google.com/github/RubensJr21/FCS/blob/master/FCS.ipynb\" target=\"_parent\"><img src=\"https://colab.research.google.com/assets/colab-badge.svg\" alt=\"Open In Colab\"/></a>"
      ]
    },
    {
      "cell_type": "markdown",
      "metadata": {
        "id": "p2wbkLScDT1z"
      },
      "source": [
        "Instalando Pandas"
      ]
    },
    {
      "cell_type": "code",
      "metadata": {
        "id": "phXXsm6PuUuL"
      },
      "source": [
        "pip install pandas"
      ],
      "execution_count": null,
      "outputs": []
    },
    {
      "cell_type": "markdown",
      "metadata": {
        "id": "Qm5fxPsaDFJj"
      },
      "source": [
        "Importando Bibliotecas"
      ]
    },
    {
      "cell_type": "code",
      "metadata": {
        "id": "_Lf-vJtuugcp"
      },
      "source": [
        "import psycopg2\r\n",
        "import pandas as pd"
      ],
      "execution_count": null,
      "outputs": []
    },
    {
      "cell_type": "markdown",
      "metadata": {
        "id": "9zkcSHFMCR5A"
      },
      "source": [
        "Configurando conexão"
      ]
    },
    {
      "cell_type": "code",
      "metadata": {
        "id": "rDej4UiGwhGG"
      },
      "source": [
        "conn = psycopg2.connect(host=\"ziggy.db.elephantsql.com\", database=\"nyqfvagr\", user=\"nyqfvagr\", password=\"9yUpXiE_j6BFpGqKKjlvRcQWFPLLSRIC\")"
      ],
      "execution_count": null,
      "outputs": []
    },
    {
      "cell_type": "markdown",
      "metadata": {
        "id": "F9fiTROeC1mv"
      },
      "source": [
        "Consultando Informações do Banco de dados."
      ]
    },
    {
      "cell_type": "markdown",
      "metadata": {
        "id": "rOAXR2JBEX1j"
      },
      "source": [
        "Objetivo: Obter informações da tabela FUNCIONARIO"
      ]
    },
    {
      "cell_type": "code",
      "metadata": {
        "id": "GkWttQB0EYjM"
      },
      "source": [
        "resultado1 = pd.read_sql_query(\"select * from FUNCIONARIO\",conn)"
      ],
      "execution_count": null,
      "outputs": []
    },
    {
      "cell_type": "code",
      "metadata": {
        "colab": {
          "base_uri": "https://localhost:8080/",
          "height": 359
        },
        "id": "4u1vmyHuEpE-",
        "outputId": "bf4dbcad-09ce-4d26-f6f2-9131ce9ad841"
      },
      "source": [
        "resultado1"
      ],
      "execution_count": null,
      "outputs": [
        {
          "output_type": "execute_result",
          "data": {
            "text/html": [
              "<div>\n",
              "<style scoped>\n",
              "    .dataframe tbody tr th:only-of-type {\n",
              "        vertical-align: middle;\n",
              "    }\n",
              "\n",
              "    .dataframe tbody tr th {\n",
              "        vertical-align: top;\n",
              "    }\n",
              "\n",
              "    .dataframe thead th {\n",
              "        text-align: right;\n",
              "    }\n",
              "</style>\n",
              "<table border=\"1\" class=\"dataframe\">\n",
              "  <thead>\n",
              "    <tr style=\"text-align: right;\">\n",
              "      <th></th>\n",
              "      <th>id</th>\n",
              "      <th>nome_sobrenome</th>\n",
              "      <th>senha</th>\n",
              "      <th>funcao</th>\n",
              "    </tr>\n",
              "  </thead>\n",
              "  <tbody>\n",
              "    <tr>\n",
              "      <th>0</th>\n",
              "      <td>id1</td>\n",
              "      <td>Ana da Silva</td>\n",
              "      <td>1234</td>\n",
              "      <td>Atendente</td>\n",
              "    </tr>\n",
              "    <tr>\n",
              "      <th>1</th>\n",
              "      <td>id2</td>\n",
              "      <td>João Pedro da Silva</td>\n",
              "      <td>1234</td>\n",
              "      <td>Atendente</td>\n",
              "    </tr>\n",
              "    <tr>\n",
              "      <th>2</th>\n",
              "      <td>id3</td>\n",
              "      <td>Helena Soares</td>\n",
              "      <td>1234</td>\n",
              "      <td>Gerente</td>\n",
              "    </tr>\n",
              "    <tr>\n",
              "      <th>3</th>\n",
              "      <td>id4</td>\n",
              "      <td>Maria Eduarda Gomes</td>\n",
              "      <td>1234</td>\n",
              "      <td>Atendente</td>\n",
              "    </tr>\n",
              "    <tr>\n",
              "      <th>4</th>\n",
              "      <td>id5</td>\n",
              "      <td>Fernando Ferreira</td>\n",
              "      <td>1234</td>\n",
              "      <td>Gerente</td>\n",
              "    </tr>\n",
              "    <tr>\n",
              "      <th>5</th>\n",
              "      <td>id6</td>\n",
              "      <td>Cláudia Lima</td>\n",
              "      <td>1234</td>\n",
              "      <td>Atendente</td>\n",
              "    </tr>\n",
              "    <tr>\n",
              "      <th>6</th>\n",
              "      <td>id7</td>\n",
              "      <td>Alice Vieira</td>\n",
              "      <td>1234</td>\n",
              "      <td>Atendente</td>\n",
              "    </tr>\n",
              "    <tr>\n",
              "      <th>7</th>\n",
              "      <td>id8</td>\n",
              "      <td>Antonio Carlos</td>\n",
              "      <td>1234</td>\n",
              "      <td>Atendente</td>\n",
              "    </tr>\n",
              "    <tr>\n",
              "      <th>8</th>\n",
              "      <td>id9</td>\n",
              "      <td>Felipe Gomes</td>\n",
              "      <td>1234</td>\n",
              "      <td>Atendente</td>\n",
              "    </tr>\n",
              "    <tr>\n",
              "      <th>9</th>\n",
              "      <td>id0</td>\n",
              "      <td>Luana Dias</td>\n",
              "      <td>1234</td>\n",
              "      <td>Atendente</td>\n",
              "    </tr>\n",
              "  </tbody>\n",
              "</table>\n",
              "</div>"
            ],
            "text/plain": [
              "    id       nome_sobrenome senha     funcao\n",
              "0  id1         Ana da Silva  1234  Atendente\n",
              "1  id2  João Pedro da Silva  1234  Atendente\n",
              "2  id3        Helena Soares  1234    Gerente\n",
              "3  id4  Maria Eduarda Gomes  1234  Atendente\n",
              "4  id5    Fernando Ferreira  1234    Gerente\n",
              "5  id6         Cláudia Lima  1234  Atendente\n",
              "6  id7         Alice Vieira  1234  Atendente\n",
              "7  id8       Antonio Carlos  1234  Atendente\n",
              "8  id9         Felipe Gomes  1234  Atendente\n",
              "9  id0           Luana Dias  1234  Atendente"
            ]
          },
          "metadata": {
            "tags": []
          },
          "execution_count": 10
        }
      ]
    },
    {
      "cell_type": "markdown",
      "metadata": {
        "id": "cBn9SAJnEvNB"
      },
      "source": [
        "Objetivo: Obter informações da tabela VENDA"
      ]
    },
    {
      "cell_type": "code",
      "metadata": {
        "id": "Uku__HwOExX6"
      },
      "source": [
        "resultado2 = pd.read_sql_query(\"select * from VENDA\",conn)"
      ],
      "execution_count": null,
      "outputs": []
    },
    {
      "cell_type": "code",
      "metadata": {
        "colab": {
          "base_uri": "https://localhost:8080/",
          "height": 359
        },
        "id": "PHMyP9HcE0te",
        "outputId": "583be7e0-2598-4ca5-b18f-fd7503abc433"
      },
      "source": [
        "resultado2"
      ],
      "execution_count": null,
      "outputs": [
        {
          "output_type": "execute_result",
          "data": {
            "text/html": [
              "<div>\n",
              "<style scoped>\n",
              "    .dataframe tbody tr th:only-of-type {\n",
              "        vertical-align: middle;\n",
              "    }\n",
              "\n",
              "    .dataframe tbody tr th {\n",
              "        vertical-align: top;\n",
              "    }\n",
              "\n",
              "    .dataframe thead th {\n",
              "        text-align: right;\n",
              "    }\n",
              "</style>\n",
              "<table border=\"1\" class=\"dataframe\">\n",
              "  <thead>\n",
              "    <tr style=\"text-align: right;\">\n",
              "      <th></th>\n",
              "      <th>id</th>\n",
              "      <th>fk_clientes_id</th>\n",
              "      <th>fk_funcionarios_id</th>\n",
              "      <th>data_registro</th>\n",
              "      <th>data_entrega</th>\n",
              "      <th>hora_entrega</th>\n",
              "      <th>fk_forma_de_pagamento_tipo</th>\n",
              "      <th>valor_pago</th>\n",
              "      <th>total</th>\n",
              "      <th>fk_pedido_estado_id</th>\n",
              "      <th>obs</th>\n",
              "    </tr>\n",
              "  </thead>\n",
              "  <tbody>\n",
              "    <tr>\n",
              "      <th>0</th>\n",
              "      <td>1</td>\n",
              "      <td>idA</td>\n",
              "      <td>id2</td>\n",
              "      <td>2015-05-03</td>\n",
              "      <td>2015-06-03</td>\n",
              "      <td>14:30:00</td>\n",
              "      <td>cartao</td>\n",
              "      <td>50.00</td>\n",
              "      <td>50.00</td>\n",
              "      <td>21</td>\n",
              "      <td></td>\n",
              "    </tr>\n",
              "    <tr>\n",
              "      <th>1</th>\n",
              "      <td>2</td>\n",
              "      <td>idA</td>\n",
              "      <td>id3</td>\n",
              "      <td>2015-07-03</td>\n",
              "      <td>2015-07-03</td>\n",
              "      <td>14:35:00</td>\n",
              "      <td>cartao</td>\n",
              "      <td>35.99</td>\n",
              "      <td>35.99</td>\n",
              "      <td>22</td>\n",
              "      <td></td>\n",
              "    </tr>\n",
              "    <tr>\n",
              "      <th>2</th>\n",
              "      <td>3</td>\n",
              "      <td>idA</td>\n",
              "      <td>id4</td>\n",
              "      <td>2015-07-03</td>\n",
              "      <td>2015-07-03</td>\n",
              "      <td>14:40:00</td>\n",
              "      <td>cartao</td>\n",
              "      <td>23.15</td>\n",
              "      <td>23.15</td>\n",
              "      <td>23</td>\n",
              "      <td></td>\n",
              "    </tr>\n",
              "    <tr>\n",
              "      <th>3</th>\n",
              "      <td>4</td>\n",
              "      <td>idA</td>\n",
              "      <td>id5</td>\n",
              "      <td>2015-05-03</td>\n",
              "      <td>2015-05-03</td>\n",
              "      <td>14:03:00</td>\n",
              "      <td>cartao</td>\n",
              "      <td>14.26</td>\n",
              "      <td>14.26</td>\n",
              "      <td>24</td>\n",
              "      <td></td>\n",
              "    </tr>\n",
              "    <tr>\n",
              "      <th>4</th>\n",
              "      <td>5</td>\n",
              "      <td>idA</td>\n",
              "      <td>id6</td>\n",
              "      <td>2015-05-03</td>\n",
              "      <td>2015-05-03</td>\n",
              "      <td>14:10:00</td>\n",
              "      <td>cartao</td>\n",
              "      <td>10.14</td>\n",
              "      <td>10.14</td>\n",
              "      <td>25</td>\n",
              "      <td></td>\n",
              "    </tr>\n",
              "    <tr>\n",
              "      <th>5</th>\n",
              "      <td>6</td>\n",
              "      <td>idA</td>\n",
              "      <td>id7</td>\n",
              "      <td>2015-05-03</td>\n",
              "      <td>2015-05-03</td>\n",
              "      <td>14:23:00</td>\n",
              "      <td>cartao</td>\n",
              "      <td>22.99</td>\n",
              "      <td>22.99</td>\n",
              "      <td>26</td>\n",
              "      <td></td>\n",
              "    </tr>\n",
              "    <tr>\n",
              "      <th>6</th>\n",
              "      <td>7</td>\n",
              "      <td>idA</td>\n",
              "      <td>id8</td>\n",
              "      <td>2015-07-03</td>\n",
              "      <td>2015-07-03</td>\n",
              "      <td>14:50:00</td>\n",
              "      <td>cartao</td>\n",
              "      <td>64.50</td>\n",
              "      <td>64.50</td>\n",
              "      <td>27</td>\n",
              "      <td></td>\n",
              "    </tr>\n",
              "    <tr>\n",
              "      <th>7</th>\n",
              "      <td>8</td>\n",
              "      <td>idA</td>\n",
              "      <td>id9</td>\n",
              "      <td>2015-08-03</td>\n",
              "      <td>2015-08-03</td>\n",
              "      <td>14:07:00</td>\n",
              "      <td>cartao</td>\n",
              "      <td>14.99</td>\n",
              "      <td>14.99</td>\n",
              "      <td>28</td>\n",
              "      <td></td>\n",
              "    </tr>\n",
              "    <tr>\n",
              "      <th>8</th>\n",
              "      <td>9</td>\n",
              "      <td>idA</td>\n",
              "      <td>id2</td>\n",
              "      <td>2015-09-03</td>\n",
              "      <td>2015-09-03</td>\n",
              "      <td>14:11:00</td>\n",
              "      <td>cartao</td>\n",
              "      <td>12.49</td>\n",
              "      <td>14.99</td>\n",
              "      <td>29</td>\n",
              "      <td></td>\n",
              "    </tr>\n",
              "    <tr>\n",
              "      <th>9</th>\n",
              "      <td>10</td>\n",
              "      <td>idA</td>\n",
              "      <td>id1</td>\n",
              "      <td>2015-10-03</td>\n",
              "      <td>2015-10-03</td>\n",
              "      <td>14:31:00</td>\n",
              "      <td>cartao</td>\n",
              "      <td>23.99</td>\n",
              "      <td>23.99</td>\n",
              "      <td>30</td>\n",
              "      <td></td>\n",
              "    </tr>\n",
              "  </tbody>\n",
              "</table>\n",
              "</div>"
            ],
            "text/plain": [
              "   id fk_clientes_id fk_funcionarios_id  ...  total fk_pedido_estado_id obs\n",
              "0   1            idA                id2  ...  50.00                  21    \n",
              "1   2            idA                id3  ...  35.99                  22    \n",
              "2   3            idA                id4  ...  23.15                  23    \n",
              "3   4            idA                id5  ...  14.26                  24    \n",
              "4   5            idA                id6  ...  10.14                  25    \n",
              "5   6            idA                id7  ...  22.99                  26    \n",
              "6   7            idA                id8  ...  64.50                  27    \n",
              "7   8            idA                id9  ...  14.99                  28    \n",
              "8   9            idA                id2  ...  14.99                  29    \n",
              "9  10            idA                id1  ...  23.99                  30    \n",
              "\n",
              "[10 rows x 11 columns]"
            ]
          },
          "metadata": {
            "tags": []
          },
          "execution_count": 12
        }
      ]
    },
    {
      "cell_type": "markdown",
      "metadata": {
        "id": "7lZyJAcyE3zI"
      },
      "source": [
        "Objetivo: Obter informações da tabela PRODUTO"
      ]
    },
    {
      "cell_type": "code",
      "metadata": {
        "id": "LW5HKedyE7Eb"
      },
      "source": [
        "resultado3 = pd.read_sql_query(\"select * from PRODUTO\",conn)"
      ],
      "execution_count": null,
      "outputs": []
    },
    {
      "cell_type": "code",
      "metadata": {
        "colab": {
          "base_uri": "https://localhost:8080/",
          "height": 359
        },
        "id": "Tht-WpWGE-6n",
        "outputId": "d48cdc9b-6019-4723-adb6-40981527798d"
      },
      "source": [
        "resultado3"
      ],
      "execution_count": null,
      "outputs": [
        {
          "output_type": "execute_result",
          "data": {
            "text/html": [
              "<div>\n",
              "<style scoped>\n",
              "    .dataframe tbody tr th:only-of-type {\n",
              "        vertical-align: middle;\n",
              "    }\n",
              "\n",
              "    .dataframe tbody tr th {\n",
              "        vertical-align: top;\n",
              "    }\n",
              "\n",
              "    .dataframe thead th {\n",
              "        text-align: right;\n",
              "    }\n",
              "</style>\n",
              "<table border=\"1\" class=\"dataframe\">\n",
              "  <thead>\n",
              "    <tr style=\"text-align: right;\">\n",
              "      <th></th>\n",
              "      <th>id</th>\n",
              "      <th>nome</th>\n",
              "      <th>valor</th>\n",
              "      <th>fk_categorias_id</th>\n",
              "      <th>active</th>\n",
              "    </tr>\n",
              "  </thead>\n",
              "  <tbody>\n",
              "    <tr>\n",
              "      <th>0</th>\n",
              "      <td>idP1</td>\n",
              "      <td>produto1</td>\n",
              "      <td>15.99</td>\n",
              "      <td>cA</td>\n",
              "      <td>True</td>\n",
              "    </tr>\n",
              "    <tr>\n",
              "      <th>1</th>\n",
              "      <td>idP2</td>\n",
              "      <td>produto2</td>\n",
              "      <td>10.35</td>\n",
              "      <td>cB</td>\n",
              "      <td>False</td>\n",
              "    </tr>\n",
              "    <tr>\n",
              "      <th>2</th>\n",
              "      <td>idP3</td>\n",
              "      <td>produto3</td>\n",
              "      <td>18.40</td>\n",
              "      <td>cC</td>\n",
              "      <td>True</td>\n",
              "    </tr>\n",
              "    <tr>\n",
              "      <th>3</th>\n",
              "      <td>idP4</td>\n",
              "      <td>produto4</td>\n",
              "      <td>21.99</td>\n",
              "      <td>cD</td>\n",
              "      <td>False</td>\n",
              "    </tr>\n",
              "    <tr>\n",
              "      <th>4</th>\n",
              "      <td>idP5</td>\n",
              "      <td>produto5</td>\n",
              "      <td>13.99</td>\n",
              "      <td>cE</td>\n",
              "      <td>True</td>\n",
              "    </tr>\n",
              "    <tr>\n",
              "      <th>5</th>\n",
              "      <td>idP6</td>\n",
              "      <td>produto6</td>\n",
              "      <td>9.99</td>\n",
              "      <td>cF</td>\n",
              "      <td>True</td>\n",
              "    </tr>\n",
              "    <tr>\n",
              "      <th>6</th>\n",
              "      <td>idP7</td>\n",
              "      <td>produto7</td>\n",
              "      <td>23.50</td>\n",
              "      <td>cG</td>\n",
              "      <td>True</td>\n",
              "    </tr>\n",
              "    <tr>\n",
              "      <th>7</th>\n",
              "      <td>idP8</td>\n",
              "      <td>produto8</td>\n",
              "      <td>14.46</td>\n",
              "      <td>cH</td>\n",
              "      <td>True</td>\n",
              "    </tr>\n",
              "    <tr>\n",
              "      <th>8</th>\n",
              "      <td>idP9</td>\n",
              "      <td>produto9</td>\n",
              "      <td>15.35</td>\n",
              "      <td>cI</td>\n",
              "      <td>False</td>\n",
              "    </tr>\n",
              "    <tr>\n",
              "      <th>9</th>\n",
              "      <td>idP0</td>\n",
              "      <td>produto10</td>\n",
              "      <td>20.15</td>\n",
              "      <td>cJ</td>\n",
              "      <td>True</td>\n",
              "    </tr>\n",
              "  </tbody>\n",
              "</table>\n",
              "</div>"
            ],
            "text/plain": [
              "     id       nome  valor fk_categorias_id  active\n",
              "0  idP1   produto1  15.99               cA    True\n",
              "1  idP2   produto2  10.35               cB   False\n",
              "2  idP3   produto3  18.40               cC    True\n",
              "3  idP4   produto4  21.99               cD   False\n",
              "4  idP5   produto5  13.99               cE    True\n",
              "5  idP6   produto6   9.99               cF    True\n",
              "6  idP7   produto7  23.50               cG    True\n",
              "7  idP8   produto8  14.46               cH    True\n",
              "8  idP9   produto9  15.35               cI   False\n",
              "9  idP0  produto10  20.15               cJ    True"
            ]
          },
          "metadata": {
            "tags": []
          },
          "execution_count": 14
        }
      ]
    },
    {
      "cell_type": "markdown",
      "metadata": {
        "id": "vpGvJ4VoFC5H"
      },
      "source": [
        "Objetivo: Obter informações da tabela CATEGORIA"
      ]
    },
    {
      "cell_type": "code",
      "metadata": {
        "id": "_DWrtkZwFFfb"
      },
      "source": [
        "resultado4 = pd.read_sql_query(\"select * from CATEGORIA\",conn)"
      ],
      "execution_count": null,
      "outputs": []
    },
    {
      "cell_type": "code",
      "metadata": {
        "colab": {
          "base_uri": "https://localhost:8080/",
          "height": 359
        },
        "id": "V0QFixbHFNRw",
        "outputId": "f5b17291-e582-4e6d-b07d-6ae62c823c12"
      },
      "source": [
        "resultado4"
      ],
      "execution_count": null,
      "outputs": [
        {
          "output_type": "execute_result",
          "data": {
            "text/html": [
              "<div>\n",
              "<style scoped>\n",
              "    .dataframe tbody tr th:only-of-type {\n",
              "        vertical-align: middle;\n",
              "    }\n",
              "\n",
              "    .dataframe tbody tr th {\n",
              "        vertical-align: top;\n",
              "    }\n",
              "\n",
              "    .dataframe thead th {\n",
              "        text-align: right;\n",
              "    }\n",
              "</style>\n",
              "<table border=\"1\" class=\"dataframe\">\n",
              "  <thead>\n",
              "    <tr style=\"text-align: right;\">\n",
              "      <th></th>\n",
              "      <th>id</th>\n",
              "      <th>tipo</th>\n",
              "    </tr>\n",
              "  </thead>\n",
              "  <tbody>\n",
              "    <tr>\n",
              "      <th>0</th>\n",
              "      <td>cA</td>\n",
              "      <td>tipoA</td>\n",
              "    </tr>\n",
              "    <tr>\n",
              "      <th>1</th>\n",
              "      <td>cB</td>\n",
              "      <td>tipoB</td>\n",
              "    </tr>\n",
              "    <tr>\n",
              "      <th>2</th>\n",
              "      <td>cC</td>\n",
              "      <td>tipoC</td>\n",
              "    </tr>\n",
              "    <tr>\n",
              "      <th>3</th>\n",
              "      <td>cD</td>\n",
              "      <td>tipoD</td>\n",
              "    </tr>\n",
              "    <tr>\n",
              "      <th>4</th>\n",
              "      <td>cE</td>\n",
              "      <td>tipoE</td>\n",
              "    </tr>\n",
              "    <tr>\n",
              "      <th>5</th>\n",
              "      <td>cF</td>\n",
              "      <td>tipoF</td>\n",
              "    </tr>\n",
              "    <tr>\n",
              "      <th>6</th>\n",
              "      <td>cG</td>\n",
              "      <td>tipoG</td>\n",
              "    </tr>\n",
              "    <tr>\n",
              "      <th>7</th>\n",
              "      <td>cH</td>\n",
              "      <td>tipoH</td>\n",
              "    </tr>\n",
              "    <tr>\n",
              "      <th>8</th>\n",
              "      <td>cI</td>\n",
              "      <td>tipoI</td>\n",
              "    </tr>\n",
              "    <tr>\n",
              "      <th>9</th>\n",
              "      <td>cJ</td>\n",
              "      <td>tipoJ</td>\n",
              "    </tr>\n",
              "  </tbody>\n",
              "</table>\n",
              "</div>"
            ],
            "text/plain": [
              "   id   tipo\n",
              "0  cA  tipoA\n",
              "1  cB  tipoB\n",
              "2  cC  tipoC\n",
              "3  cD  tipoD\n",
              "4  cE  tipoE\n",
              "5  cF  tipoF\n",
              "6  cG  tipoG\n",
              "7  cH  tipoH\n",
              "8  cI  tipoI\n",
              "9  cJ  tipoJ"
            ]
          },
          "metadata": {
            "tags": []
          },
          "execution_count": 16
        }
      ]
    },
    {
      "cell_type": "markdown",
      "metadata": {
        "id": "oqrn4qZNFV6I"
      },
      "source": [
        "Objetivo: Obter informações da tabela CLIENTE"
      ]
    },
    {
      "cell_type": "code",
      "metadata": {
        "id": "CHabUW33FZPD"
      },
      "source": [
        "resultado5 = pd.read_sql_query(\"select * from CLIENTE\",conn)"
      ],
      "execution_count": null,
      "outputs": []
    },
    {
      "cell_type": "code",
      "metadata": {
        "colab": {
          "base_uri": "https://localhost:8080/",
          "height": 359
        },
        "id": "8OIi9dzzFdNo",
        "outputId": "e6399349-b8f5-462a-cc73-a6faa304a122"
      },
      "source": [
        "resultado5"
      ],
      "execution_count": null,
      "outputs": [
        {
          "output_type": "execute_result",
          "data": {
            "text/html": [
              "<div>\n",
              "<style scoped>\n",
              "    .dataframe tbody tr th:only-of-type {\n",
              "        vertical-align: middle;\n",
              "    }\n",
              "\n",
              "    .dataframe tbody tr th {\n",
              "        vertical-align: top;\n",
              "    }\n",
              "\n",
              "    .dataframe thead th {\n",
              "        text-align: right;\n",
              "    }\n",
              "</style>\n",
              "<table border=\"1\" class=\"dataframe\">\n",
              "  <thead>\n",
              "    <tr style=\"text-align: right;\">\n",
              "      <th></th>\n",
              "      <th>id</th>\n",
              "      <th>nome</th>\n",
              "      <th>sobrenome</th>\n",
              "      <th>telefone</th>\n",
              "      <th>fk_enderecos_id</th>\n",
              "    </tr>\n",
              "  </thead>\n",
              "  <tbody>\n",
              "    <tr>\n",
              "      <th>0</th>\n",
              "      <td>idA</td>\n",
              "      <td>Maria</td>\n",
              "      <td>da Silva</td>\n",
              "      <td>3222-3531</td>\n",
              "      <td>1</td>\n",
              "    </tr>\n",
              "    <tr>\n",
              "      <th>1</th>\n",
              "      <td>idB</td>\n",
              "      <td>Alice</td>\n",
              "      <td>Soares Barreto</td>\n",
              "      <td>3233-3332</td>\n",
              "      <td>2</td>\n",
              "    </tr>\n",
              "    <tr>\n",
              "      <th>2</th>\n",
              "      <td>idC</td>\n",
              "      <td>Jonas</td>\n",
              "      <td>Gonçalves</td>\n",
              "      <td>3531-2826</td>\n",
              "      <td>3</td>\n",
              "    </tr>\n",
              "    <tr>\n",
              "      <th>3</th>\n",
              "      <td>idD</td>\n",
              "      <td>Fernando</td>\n",
              "      <td>Menezes</td>\n",
              "      <td>3222-7412</td>\n",
              "      <td>4</td>\n",
              "    </tr>\n",
              "    <tr>\n",
              "      <th>4</th>\n",
              "      <td>idE</td>\n",
              "      <td>Lucas</td>\n",
              "      <td>Ferreira Lima</td>\n",
              "      <td>3635-3839</td>\n",
              "      <td>5</td>\n",
              "    </tr>\n",
              "    <tr>\n",
              "      <th>5</th>\n",
              "      <td>idF</td>\n",
              "      <td>Mateus</td>\n",
              "      <td>Vieira de Sá</td>\n",
              "      <td>3233-3134</td>\n",
              "      <td>6</td>\n",
              "    </tr>\n",
              "    <tr>\n",
              "      <th>6</th>\n",
              "      <td>idG</td>\n",
              "      <td>Clarisse</td>\n",
              "      <td>Alencar de Souza</td>\n",
              "      <td>3230-3534</td>\n",
              "      <td>7</td>\n",
              "    </tr>\n",
              "    <tr>\n",
              "      <th>7</th>\n",
              "      <td>idH</td>\n",
              "      <td>Thiago</td>\n",
              "      <td>Alves Rodrigues</td>\n",
              "      <td>3738-3231</td>\n",
              "      <td>8</td>\n",
              "    </tr>\n",
              "    <tr>\n",
              "      <th>8</th>\n",
              "      <td>idI</td>\n",
              "      <td>Humberto</td>\n",
              "      <td>Rocha Siqueira</td>\n",
              "      <td>3532-2224</td>\n",
              "      <td>9</td>\n",
              "    </tr>\n",
              "    <tr>\n",
              "      <th>9</th>\n",
              "      <td>idJ</td>\n",
              "      <td>Felipe</td>\n",
              "      <td>Andrade de Azevedo</td>\n",
              "      <td>3222-4541</td>\n",
              "      <td>10</td>\n",
              "    </tr>\n",
              "  </tbody>\n",
              "</table>\n",
              "</div>"
            ],
            "text/plain": [
              "    id      nome           sobrenome   telefone  fk_enderecos_id\n",
              "0  idA     Maria            da Silva  3222-3531                1\n",
              "1  idB     Alice      Soares Barreto  3233-3332                2\n",
              "2  idC     Jonas           Gonçalves  3531-2826                3\n",
              "3  idD  Fernando             Menezes  3222-7412                4\n",
              "4  idE     Lucas       Ferreira Lima  3635-3839                5\n",
              "5  idF    Mateus        Vieira de Sá  3233-3134                6\n",
              "6  idG  Clarisse    Alencar de Souza  3230-3534                7\n",
              "7  idH    Thiago     Alves Rodrigues  3738-3231                8\n",
              "8  idI  Humberto      Rocha Siqueira  3532-2224                9\n",
              "9  idJ    Felipe  Andrade de Azevedo  3222-4541               10"
            ]
          },
          "metadata": {
            "tags": []
          },
          "execution_count": 18
        }
      ]
    },
    {
      "cell_type": "markdown",
      "metadata": {
        "id": "BwNweYK6FfHP"
      },
      "source": [
        "Objetivo: Obter informações da tabela ENDERECO"
      ]
    },
    {
      "cell_type": "code",
      "metadata": {
        "id": "YCH8VCDeFiwi"
      },
      "source": [
        "resultado6 = pd.read_sql_query(\"select * from ENDERECO\",conn)"
      ],
      "execution_count": null,
      "outputs": []
    },
    {
      "cell_type": "code",
      "metadata": {
        "colab": {
          "base_uri": "https://localhost:8080/",
          "height": 359
        },
        "id": "mtN7BMhVFmXr",
        "outputId": "7a4455e3-f462-4df6-b7ea-f6f3d08b143c"
      },
      "source": [
        "resultado6"
      ],
      "execution_count": null,
      "outputs": [
        {
          "output_type": "execute_result",
          "data": {
            "text/html": [
              "<div>\n",
              "<style scoped>\n",
              "    .dataframe tbody tr th:only-of-type {\n",
              "        vertical-align: middle;\n",
              "    }\n",
              "\n",
              "    .dataframe tbody tr th {\n",
              "        vertical-align: top;\n",
              "    }\n",
              "\n",
              "    .dataframe thead th {\n",
              "        text-align: right;\n",
              "    }\n",
              "</style>\n",
              "<table border=\"1\" class=\"dataframe\">\n",
              "  <thead>\n",
              "    <tr style=\"text-align: right;\">\n",
              "      <th></th>\n",
              "      <th>id</th>\n",
              "      <th>tipo</th>\n",
              "      <th>lougradoro_nome</th>\n",
              "      <th>numero</th>\n",
              "      <th>bairro</th>\n",
              "      <th>municipio</th>\n",
              "      <th>estados_uf</th>\n",
              "      <th>complemento</th>\n",
              "      <th>cep</th>\n",
              "    </tr>\n",
              "  </thead>\n",
              "  <tbody>\n",
              "    <tr>\n",
              "      <th>0</th>\n",
              "      <td>1</td>\n",
              "      <td>Rua</td>\n",
              "      <td>Lírio dos Vales</td>\n",
              "      <td>3</td>\n",
              "      <td>São Lucas</td>\n",
              "      <td>Vitória</td>\n",
              "      <td>ES</td>\n",
              "      <td>Fundos</td>\n",
              "      <td>2900000</td>\n",
              "    </tr>\n",
              "    <tr>\n",
              "      <th>1</th>\n",
              "      <td>2</td>\n",
              "      <td>Avenida</td>\n",
              "      <td>Lima Silva</td>\n",
              "      <td>124</td>\n",
              "      <td>Vista Linda</td>\n",
              "      <td>Vila Velha</td>\n",
              "      <td>ES</td>\n",
              "      <td>Apt 104</td>\n",
              "      <td>2900300</td>\n",
              "    </tr>\n",
              "    <tr>\n",
              "      <th>2</th>\n",
              "      <td>3</td>\n",
              "      <td>Avenida</td>\n",
              "      <td>Avenida Aparecida</td>\n",
              "      <td>154</td>\n",
              "      <td>São João</td>\n",
              "      <td>Vila Velha</td>\n",
              "      <td>ES</td>\n",
              "      <td>Apt 34</td>\n",
              "      <td>2900300</td>\n",
              "    </tr>\n",
              "    <tr>\n",
              "      <th>3</th>\n",
              "      <td>4</td>\n",
              "      <td>Rua</td>\n",
              "      <td>Constante Sodré</td>\n",
              "      <td>25</td>\n",
              "      <td>Santa Lúcia</td>\n",
              "      <td>Vitória</td>\n",
              "      <td>ES</td>\n",
              "      <td>Apt 230</td>\n",
              "      <td>2900000</td>\n",
              "    </tr>\n",
              "    <tr>\n",
              "      <th>4</th>\n",
              "      <td>5</td>\n",
              "      <td>Rua</td>\n",
              "      <td>Anacleto Soares</td>\n",
              "      <td>524</td>\n",
              "      <td>Jardim das Flores</td>\n",
              "      <td>Vila Velha</td>\n",
              "      <td>ES</td>\n",
              "      <td>Casa</td>\n",
              "      <td>2900400</td>\n",
              "    </tr>\n",
              "    <tr>\n",
              "      <th>5</th>\n",
              "      <td>6</td>\n",
              "      <td>Avenida</td>\n",
              "      <td>Coelho Mota</td>\n",
              "      <td>325</td>\n",
              "      <td></td>\n",
              "      <td>Vila Velha</td>\n",
              "      <td>ES</td>\n",
              "      <td>Apt 104</td>\n",
              "      <td>2900300</td>\n",
              "    </tr>\n",
              "    <tr>\n",
              "      <th>6</th>\n",
              "      <td>7</td>\n",
              "      <td>Avenida</td>\n",
              "      <td>Navegantes</td>\n",
              "      <td>124</td>\n",
              "      <td>Praia do Suá</td>\n",
              "      <td>Vitória</td>\n",
              "      <td>ES</td>\n",
              "      <td>Apt 104</td>\n",
              "      <td>2900000</td>\n",
              "    </tr>\n",
              "    <tr>\n",
              "      <th>7</th>\n",
              "      <td>8</td>\n",
              "      <td>Rua</td>\n",
              "      <td>Aleixo Neto</td>\n",
              "      <td>230</td>\n",
              "      <td>Praia do Canto</td>\n",
              "      <td>Vitória</td>\n",
              "      <td>ES</td>\n",
              "      <td>Apt 205</td>\n",
              "      <td>2900300</td>\n",
              "    </tr>\n",
              "    <tr>\n",
              "      <th>8</th>\n",
              "      <td>9</td>\n",
              "      <td>Avenida</td>\n",
              "      <td>Soares Souza</td>\n",
              "      <td>724</td>\n",
              "      <td>Vista Alegre</td>\n",
              "      <td>Serra</td>\n",
              "      <td>ES</td>\n",
              "      <td>casa</td>\n",
              "      <td>2900500</td>\n",
              "    </tr>\n",
              "    <tr>\n",
              "      <th>9</th>\n",
              "      <td>10</td>\n",
              "      <td>Avenida</td>\n",
              "      <td>Avenida Barreto Couto</td>\n",
              "      <td>831</td>\n",
              "      <td>Vila Nova</td>\n",
              "      <td>Vila Velha</td>\n",
              "      <td>ES</td>\n",
              "      <td>casa</td>\n",
              "      <td>2900900</td>\n",
              "    </tr>\n",
              "  </tbody>\n",
              "</table>\n",
              "</div>"
            ],
            "text/plain": [
              "   id     tipo        lougradoro_nome  ...  estados_uf complemento      cep\n",
              "0   1      Rua        Lírio dos Vales  ...          ES      Fundos  2900000\n",
              "1   2  Avenida             Lima Silva  ...          ES     Apt 104  2900300\n",
              "2   3  Avenida      Avenida Aparecida  ...          ES      Apt 34  2900300\n",
              "3   4      Rua       Constante Sodré   ...          ES     Apt 230  2900000\n",
              "4   5      Rua        Anacleto Soares  ...          ES        Casa  2900400\n",
              "5   6  Avenida            Coelho Mota  ...          ES     Apt 104  2900300\n",
              "6   7  Avenida             Navegantes  ...          ES     Apt 104  2900000\n",
              "7   8      Rua            Aleixo Neto  ...          ES     Apt 205  2900300\n",
              "8   9  Avenida           Soares Souza  ...          ES        casa  2900500\n",
              "9  10  Avenida  Avenida Barreto Couto  ...          ES        casa  2900900\n",
              "\n",
              "[10 rows x 9 columns]"
            ]
          },
          "metadata": {
            "tags": []
          },
          "execution_count": 20
        }
      ]
    },
    {
      "cell_type": "markdown",
      "metadata": {
        "id": "bz6AUTAPFzfu"
      },
      "source": [
        "Objetivo: Obter informações da tabela VENDA_PRODUTO"
      ]
    },
    {
      "cell_type": "code",
      "metadata": {
        "id": "iWns_vABF4Ca"
      },
      "source": [
        "resultado7 = pd.read_sql_query(\"select * from VENDA_PRODUTO\",conn)"
      ],
      "execution_count": null,
      "outputs": []
    },
    {
      "cell_type": "code",
      "metadata": {
        "colab": {
          "base_uri": "https://localhost:8080/",
          "height": 297
        },
        "id": "0Bn-s3xVF9qC",
        "outputId": "bf755293-34fe-4115-8aac-dfd43a2feb38"
      },
      "source": [
        "resultado7"
      ],
      "execution_count": null,
      "outputs": [
        {
          "output_type": "execute_result",
          "data": {
            "text/html": [
              "<div>\n",
              "<style scoped>\n",
              "    .dataframe tbody tr th:only-of-type {\n",
              "        vertical-align: middle;\n",
              "    }\n",
              "\n",
              "    .dataframe tbody tr th {\n",
              "        vertical-align: top;\n",
              "    }\n",
              "\n",
              "    .dataframe thead th {\n",
              "        text-align: right;\n",
              "    }\n",
              "</style>\n",
              "<table border=\"1\" class=\"dataframe\">\n",
              "  <thead>\n",
              "    <tr style=\"text-align: right;\">\n",
              "      <th></th>\n",
              "      <th>fk_produtos_id</th>\n",
              "      <th>fk_vendas_id</th>\n",
              "      <th>qtd</th>\n",
              "      <th>valor</th>\n",
              "      <th>sabor</th>\n",
              "      <th>obs</th>\n",
              "    </tr>\n",
              "  </thead>\n",
              "  <tbody>\n",
              "    <tr>\n",
              "      <th>0</th>\n",
              "      <td>idP1</td>\n",
              "      <td>1</td>\n",
              "      <td>3</td>\n",
              "      <td>4.0</td>\n",
              "      <td>sabor1</td>\n",
              "      <td></td>\n",
              "    </tr>\n",
              "    <tr>\n",
              "      <th>1</th>\n",
              "      <td>idP1</td>\n",
              "      <td>2</td>\n",
              "      <td>3</td>\n",
              "      <td>3.0</td>\n",
              "      <td>sabor1</td>\n",
              "      <td></td>\n",
              "    </tr>\n",
              "    <tr>\n",
              "      <th>2</th>\n",
              "      <td>idP1</td>\n",
              "      <td>2</td>\n",
              "      <td>3</td>\n",
              "      <td>2.0</td>\n",
              "      <td>sabor1</td>\n",
              "      <td></td>\n",
              "    </tr>\n",
              "    <tr>\n",
              "      <th>3</th>\n",
              "      <td>idP1</td>\n",
              "      <td>2</td>\n",
              "      <td>3</td>\n",
              "      <td>1.0</td>\n",
              "      <td>sabor1</td>\n",
              "      <td></td>\n",
              "    </tr>\n",
              "    <tr>\n",
              "      <th>4</th>\n",
              "      <td>idP1</td>\n",
              "      <td>3</td>\n",
              "      <td>3</td>\n",
              "      <td>1.0</td>\n",
              "      <td>sabor1</td>\n",
              "      <td></td>\n",
              "    </tr>\n",
              "    <tr>\n",
              "      <th>5</th>\n",
              "      <td>idP1</td>\n",
              "      <td>4</td>\n",
              "      <td>3</td>\n",
              "      <td>1.0</td>\n",
              "      <td>sabor1</td>\n",
              "      <td></td>\n",
              "    </tr>\n",
              "    <tr>\n",
              "      <th>6</th>\n",
              "      <td>idP1</td>\n",
              "      <td>5</td>\n",
              "      <td>3</td>\n",
              "      <td>1.0</td>\n",
              "      <td>sabor1</td>\n",
              "      <td></td>\n",
              "    </tr>\n",
              "    <tr>\n",
              "      <th>7</th>\n",
              "      <td>idP1</td>\n",
              "      <td>1</td>\n",
              "      <td>3</td>\n",
              "      <td>1.0</td>\n",
              "      <td>sabor1</td>\n",
              "      <td></td>\n",
              "    </tr>\n",
              "  </tbody>\n",
              "</table>\n",
              "</div>"
            ],
            "text/plain": [
              "  fk_produtos_id  fk_vendas_id  qtd  valor   sabor obs\n",
              "0           idP1             1    3    4.0  sabor1    \n",
              "1           idP1             2    3    3.0  sabor1    \n",
              "2           idP1             2    3    2.0  sabor1    \n",
              "3           idP1             2    3    1.0  sabor1    \n",
              "4           idP1             3    3    1.0  sabor1    \n",
              "5           idP1             4    3    1.0  sabor1    \n",
              "6           idP1             5    3    1.0  sabor1    \n",
              "7           idP1             1    3    1.0  sabor1    "
            ]
          },
          "metadata": {
            "tags": []
          },
          "execution_count": 23
        }
      ]
    },
    {
      "cell_type": "markdown",
      "metadata": {
        "id": "dq3kGEDvGWZ4"
      },
      "source": [
        "Objetivo: Obter informações da tabela PEDIDO_ESTADO"
      ]
    },
    {
      "cell_type": "code",
      "metadata": {
        "id": "kPqnVlEjGW9r"
      },
      "source": [
        "resultado8 = pd.read_sql_query(\"select * from PEDIDO_ESTADO\",conn)\r\n"
      ],
      "execution_count": null,
      "outputs": []
    },
    {
      "cell_type": "code",
      "metadata": {
        "colab": {
          "base_uri": "https://localhost:8080/",
          "height": 359
        },
        "id": "DEdRBgvTGbYe",
        "outputId": "86d05ec9-8fd2-42f0-b399-c7fbe129d66f"
      },
      "source": [
        "resultado8"
      ],
      "execution_count": null,
      "outputs": [
        {
          "output_type": "execute_result",
          "data": {
            "text/html": [
              "<div>\n",
              "<style scoped>\n",
              "    .dataframe tbody tr th:only-of-type {\n",
              "        vertical-align: middle;\n",
              "    }\n",
              "\n",
              "    .dataframe tbody tr th {\n",
              "        vertical-align: top;\n",
              "    }\n",
              "\n",
              "    .dataframe thead th {\n",
              "        text-align: right;\n",
              "    }\n",
              "</style>\n",
              "<table border=\"1\" class=\"dataframe\">\n",
              "  <thead>\n",
              "    <tr style=\"text-align: right;\">\n",
              "      <th></th>\n",
              "      <th>id</th>\n",
              "      <th>status</th>\n",
              "    </tr>\n",
              "  </thead>\n",
              "  <tbody>\n",
              "    <tr>\n",
              "      <th>0</th>\n",
              "      <td>21</td>\n",
              "      <td>status1</td>\n",
              "    </tr>\n",
              "    <tr>\n",
              "      <th>1</th>\n",
              "      <td>22</td>\n",
              "      <td>status2</td>\n",
              "    </tr>\n",
              "    <tr>\n",
              "      <th>2</th>\n",
              "      <td>23</td>\n",
              "      <td>status3</td>\n",
              "    </tr>\n",
              "    <tr>\n",
              "      <th>3</th>\n",
              "      <td>24</td>\n",
              "      <td>status4</td>\n",
              "    </tr>\n",
              "    <tr>\n",
              "      <th>4</th>\n",
              "      <td>25</td>\n",
              "      <td>status5</td>\n",
              "    </tr>\n",
              "    <tr>\n",
              "      <th>5</th>\n",
              "      <td>26</td>\n",
              "      <td>status6</td>\n",
              "    </tr>\n",
              "    <tr>\n",
              "      <th>6</th>\n",
              "      <td>27</td>\n",
              "      <td>status7</td>\n",
              "    </tr>\n",
              "    <tr>\n",
              "      <th>7</th>\n",
              "      <td>28</td>\n",
              "      <td>status8</td>\n",
              "    </tr>\n",
              "    <tr>\n",
              "      <th>8</th>\n",
              "      <td>29</td>\n",
              "      <td>status9</td>\n",
              "    </tr>\n",
              "    <tr>\n",
              "      <th>9</th>\n",
              "      <td>30</td>\n",
              "      <td>status10</td>\n",
              "    </tr>\n",
              "  </tbody>\n",
              "</table>\n",
              "</div>"
            ],
            "text/plain": [
              "   id    status\n",
              "0  21   status1\n",
              "1  22   status2\n",
              "2  23   status3\n",
              "3  24   status4\n",
              "4  25   status5\n",
              "5  26   status6\n",
              "6  27   status7\n",
              "7  28   status8\n",
              "8  29   status9\n",
              "9  30  status10"
            ]
          },
          "metadata": {
            "tags": []
          },
          "execution_count": 26
        }
      ]
    },
    {
      "cell_type": "markdown",
      "metadata": {
        "id": "gxRrL2PYGc3n"
      },
      "source": [
        "Objetivo: Obter informações da tabela FORMA_DE_PAGAMENTO"
      ]
    },
    {
      "cell_type": "code",
      "metadata": {
        "id": "M2ugsighGfsS"
      },
      "source": [
        "resultado9 = pd.read_sql_query(\"select * from FORMA_DE_PAGAMENTO\",conn)\r\n"
      ],
      "execution_count": null,
      "outputs": []
    },
    {
      "cell_type": "code",
      "metadata": {
        "colab": {
          "base_uri": "https://localhost:8080/",
          "height": 111
        },
        "id": "JvRPbjIQGiE4",
        "outputId": "c3c605b0-5619-409b-b1c2-c69b37e74d73"
      },
      "source": [
        "resultado9"
      ],
      "execution_count": null,
      "outputs": [
        {
          "output_type": "execute_result",
          "data": {
            "text/html": [
              "<div>\n",
              "<style scoped>\n",
              "    .dataframe tbody tr th:only-of-type {\n",
              "        vertical-align: middle;\n",
              "    }\n",
              "\n",
              "    .dataframe tbody tr th {\n",
              "        vertical-align: top;\n",
              "    }\n",
              "\n",
              "    .dataframe thead th {\n",
              "        text-align: right;\n",
              "    }\n",
              "</style>\n",
              "<table border=\"1\" class=\"dataframe\">\n",
              "  <thead>\n",
              "    <tr style=\"text-align: right;\">\n",
              "      <th></th>\n",
              "      <th>tipo</th>\n",
              "    </tr>\n",
              "  </thead>\n",
              "  <tbody>\n",
              "    <tr>\n",
              "      <th>0</th>\n",
              "      <td>cartao</td>\n",
              "    </tr>\n",
              "    <tr>\n",
              "      <th>1</th>\n",
              "      <td>dinheiro</td>\n",
              "    </tr>\n",
              "  </tbody>\n",
              "</table>\n",
              "</div>"
            ],
            "text/plain": [
              "       tipo\n",
              "0    cartao\n",
              "1  dinheiro"
            ]
          },
          "metadata": {
            "tags": []
          },
          "execution_count": 28
        }
      ]
    },
    {
      "cell_type": "markdown",
      "metadata": {
        "id": "ca-XQYcOGkB3"
      },
      "source": [
        "Objetivo: Obter informações da tabela ESTOQUE"
      ]
    },
    {
      "cell_type": "code",
      "metadata": {
        "id": "aLi-5g5bGjM7"
      },
      "source": [
        "resultado10 = pd.read_sql_query(\"select * from ESTOQUE\",conn)\r\n"
      ],
      "execution_count": null,
      "outputs": []
    },
    {
      "cell_type": "code",
      "metadata": {
        "colab": {
          "base_uri": "https://localhost:8080/",
          "height": 359
        },
        "id": "DEL77InwGq8y",
        "outputId": "21930fbe-a2a4-40db-bf0a-0ddf3c96e0b0"
      },
      "source": [
        "resultado10"
      ],
      "execution_count": null,
      "outputs": [
        {
          "output_type": "execute_result",
          "data": {
            "text/html": [
              "<div>\n",
              "<style scoped>\n",
              "    .dataframe tbody tr th:only-of-type {\n",
              "        vertical-align: middle;\n",
              "    }\n",
              "\n",
              "    .dataframe tbody tr th {\n",
              "        vertical-align: top;\n",
              "    }\n",
              "\n",
              "    .dataframe thead th {\n",
              "        text-align: right;\n",
              "    }\n",
              "</style>\n",
              "<table border=\"1\" class=\"dataframe\">\n",
              "  <thead>\n",
              "    <tr style=\"text-align: right;\">\n",
              "      <th></th>\n",
              "      <th>fk_produtos_id</th>\n",
              "      <th>quantidade</th>\n",
              "    </tr>\n",
              "  </thead>\n",
              "  <tbody>\n",
              "    <tr>\n",
              "      <th>0</th>\n",
              "      <td>idP1</td>\n",
              "      <td>20</td>\n",
              "    </tr>\n",
              "    <tr>\n",
              "      <th>1</th>\n",
              "      <td>idP2</td>\n",
              "      <td>25</td>\n",
              "    </tr>\n",
              "    <tr>\n",
              "      <th>2</th>\n",
              "      <td>idP3</td>\n",
              "      <td>15</td>\n",
              "    </tr>\n",
              "    <tr>\n",
              "      <th>3</th>\n",
              "      <td>idP4</td>\n",
              "      <td>10</td>\n",
              "    </tr>\n",
              "    <tr>\n",
              "      <th>4</th>\n",
              "      <td>idP5</td>\n",
              "      <td>30</td>\n",
              "    </tr>\n",
              "    <tr>\n",
              "      <th>5</th>\n",
              "      <td>idP6</td>\n",
              "      <td>18</td>\n",
              "    </tr>\n",
              "    <tr>\n",
              "      <th>6</th>\n",
              "      <td>idP7</td>\n",
              "      <td>5</td>\n",
              "    </tr>\n",
              "    <tr>\n",
              "      <th>7</th>\n",
              "      <td>idP8</td>\n",
              "      <td>23</td>\n",
              "    </tr>\n",
              "    <tr>\n",
              "      <th>8</th>\n",
              "      <td>idP9</td>\n",
              "      <td>7</td>\n",
              "    </tr>\n",
              "    <tr>\n",
              "      <th>9</th>\n",
              "      <td>idP0</td>\n",
              "      <td>14</td>\n",
              "    </tr>\n",
              "  </tbody>\n",
              "</table>\n",
              "</div>"
            ],
            "text/plain": [
              "  fk_produtos_id  quantidade\n",
              "0           idP1          20\n",
              "1           idP2          25\n",
              "2           idP3          15\n",
              "3           idP4          10\n",
              "4           idP5          30\n",
              "5           idP6          18\n",
              "6           idP7           5\n",
              "7           idP8          23\n",
              "8           idP9           7\n",
              "9           idP0          14"
            ]
          },
          "metadata": {
            "tags": []
          },
          "execution_count": 30
        }
      ]
    },
    {
      "cell_type": "markdown",
      "metadata": {
        "id": "5_LtEWOoG3u3"
      },
      "source": [
        "Objetivo: Obter informações da tabela SABOR"
      ]
    },
    {
      "cell_type": "code",
      "metadata": {
        "id": "QdlWA8YQG6h5"
      },
      "source": [
        "resultado11 = pd.read_sql_query(\"select * from SABOR\",conn)"
      ],
      "execution_count": null,
      "outputs": []
    },
    {
      "cell_type": "code",
      "metadata": {
        "colab": {
          "base_uri": "https://localhost:8080/",
          "height": 359
        },
        "id": "oVRYGVSbG8P5",
        "outputId": "b02feb78-2a84-4424-a1db-353e535684b8"
      },
      "source": [
        "resultado11"
      ],
      "execution_count": null,
      "outputs": [
        {
          "output_type": "execute_result",
          "data": {
            "text/html": [
              "<div>\n",
              "<style scoped>\n",
              "    .dataframe tbody tr th:only-of-type {\n",
              "        vertical-align: middle;\n",
              "    }\n",
              "\n",
              "    .dataframe tbody tr th {\n",
              "        vertical-align: top;\n",
              "    }\n",
              "\n",
              "    .dataframe thead th {\n",
              "        text-align: right;\n",
              "    }\n",
              "</style>\n",
              "<table border=\"1\" class=\"dataframe\">\n",
              "  <thead>\n",
              "    <tr style=\"text-align: right;\">\n",
              "      <th></th>\n",
              "      <th>id</th>\n",
              "      <th>fk_produtos_id</th>\n",
              "      <th>sabor</th>\n",
              "    </tr>\n",
              "  </thead>\n",
              "  <tbody>\n",
              "    <tr>\n",
              "      <th>0</th>\n",
              "      <td>21</td>\n",
              "      <td>idP1</td>\n",
              "      <td>sabor1</td>\n",
              "    </tr>\n",
              "    <tr>\n",
              "      <th>1</th>\n",
              "      <td>22</td>\n",
              "      <td>idP1</td>\n",
              "      <td>sabor2</td>\n",
              "    </tr>\n",
              "    <tr>\n",
              "      <th>2</th>\n",
              "      <td>23</td>\n",
              "      <td>idP1</td>\n",
              "      <td>sabor3</td>\n",
              "    </tr>\n",
              "    <tr>\n",
              "      <th>3</th>\n",
              "      <td>24</td>\n",
              "      <td>idP2</td>\n",
              "      <td>sabor1</td>\n",
              "    </tr>\n",
              "    <tr>\n",
              "      <th>4</th>\n",
              "      <td>25</td>\n",
              "      <td>idP2</td>\n",
              "      <td>sabor2</td>\n",
              "    </tr>\n",
              "    <tr>\n",
              "      <th>5</th>\n",
              "      <td>26</td>\n",
              "      <td>idP3</td>\n",
              "      <td>sabor1</td>\n",
              "    </tr>\n",
              "    <tr>\n",
              "      <th>6</th>\n",
              "      <td>27</td>\n",
              "      <td>idP4</td>\n",
              "      <td>sabor1</td>\n",
              "    </tr>\n",
              "    <tr>\n",
              "      <th>7</th>\n",
              "      <td>28</td>\n",
              "      <td>idP5</td>\n",
              "      <td>sabor1</td>\n",
              "    </tr>\n",
              "    <tr>\n",
              "      <th>8</th>\n",
              "      <td>29</td>\n",
              "      <td>idP6</td>\n",
              "      <td>sabor1</td>\n",
              "    </tr>\n",
              "    <tr>\n",
              "      <th>9</th>\n",
              "      <td>30</td>\n",
              "      <td>idP7</td>\n",
              "      <td>sabor1</td>\n",
              "    </tr>\n",
              "  </tbody>\n",
              "</table>\n",
              "</div>"
            ],
            "text/plain": [
              "   id fk_produtos_id   sabor\n",
              "0  21           idP1  sabor1\n",
              "1  22           idP1  sabor2\n",
              "2  23           idP1  sabor3\n",
              "3  24           idP2  sabor1\n",
              "4  25           idP2  sabor2\n",
              "5  26           idP3  sabor1\n",
              "6  27           idP4  sabor1\n",
              "7  28           idP5  sabor1\n",
              "8  29           idP6  sabor1\n",
              "9  30           idP7  sabor1"
            ]
          },
          "metadata": {
            "tags": []
          },
          "execution_count": 32
        }
      ]
    }
  ]
}